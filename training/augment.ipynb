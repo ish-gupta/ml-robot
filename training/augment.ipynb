{
 "cells": [
  {
   "cell_type": "code",
   "execution_count": 3,
   "metadata": {},
   "outputs": [
    {
     "name": "stderr",
     "output_type": "stream",
     "text": [
      "C:\\Users\\ishit\\AppData\\Local\\Temp\\ipykernel_7136\\150885181.py:43: FutureWarning: The behavior of DataFrame concatenation with empty or all-NA entries is deprecated. In a future version, this will no longer exclude empty or all-NA columns when determining the result dtypes. To retain the old behavior, exclude the relevant entries before the concat operation.\n",
      "  df_augmented = pd.concat([df_augmented, df_augmented_entry], ignore_index=True)\n"
     ]
    }
   ],
   "source": [
    "import cv2\n",
    "import os\n",
    "import pandas as pd\n",
    "import numpy as np\n",
    "\n",
    "def augment_brightness(image, factor=1.5):\n",
    "    hsv = cv2.cvtColor(image, cv2.COLOR_BGR2HSV)\n",
    "    hsv[:, :, 2] = np.clip(hsv[:, :, 2] * factor, 0, 255)\n",
    "    return cv2.cvtColor(hsv, cv2.COLOR_HSV2BGR)\n",
    "\n",
    "def augment_flip(image):\n",
    "    return cv2.flip(image, 1)  # 1 for horizontal flip\n",
    "\n",
    "def augment_blur(image, kernel_size=(5, 5)):\n",
    "    return cv2.GaussianBlur(image, kernel_size, 0)\n",
    "\n",
    "def apply_augmentation(image_path, linear_speed_x, angular_speed_z, output_folder, df_augmented):\n",
    "    image = cv2.imread(image_path)\n",
    "    \n",
    "    # Check if augmentation is needed based on angular_speed_z\n",
    "    if angular_speed_z < -0.016 or angular_speed_z > 0.025:\n",
    "        # Augmentation 1: Brightness change\n",
    "        augmented_image1 = augment_brightness(image)\n",
    "        save_path1 = os.path.join(output_folder, os.path.basename(image_path).replace('.jpg', '_brightness.jpg'))\n",
    "        cv2.imwrite(save_path1, augmented_image1)\n",
    "        \n",
    "        # Augmentation 2: Flipping\n",
    "        augmented_image2 = augment_flip(image)\n",
    "        save_path2 = os.path.join(output_folder, os.path.basename(image_path).replace('.jpg', '_flip.jpg'))\n",
    "        cv2.imwrite(save_path2, augmented_image2)\n",
    "        \n",
    "        # Augmentation 3: Blurring\n",
    "        augmented_image3 = augment_blur(image)\n",
    "        save_path3 = os.path.join(output_folder, os.path.basename(image_path).replace('.jpg', '_blur.jpg'))\n",
    "        cv2.imwrite(save_path3, augmented_image3)\n",
    "        \n",
    "        # Update CSV for augmented images\n",
    "        df_augmented_entry = pd.DataFrame({'image name': [os.path.basename(save_path1), os.path.basename(save_path2), os.path.basename(save_path3)],\n",
    "                                           'linear_speed_x': [linear_speed_x, linear_speed_x, linear_speed_x],\n",
    "                                           'angular_speed_z': [angular_speed_z, -angular_speed_z, angular_speed_z]})\n",
    "\n",
    "        # Append the augmented entry to the existing DataFrame\n",
    "        df_augmented = pd.concat([df_augmented, df_augmented_entry], ignore_index=True)\n",
    "\n",
    "    return df_augmented\n",
    "\n",
    "# Read the original CSV file\n",
    "csv_file_path = r\"C:/Users/ishit/Documents/ROSbot_data_collection/datasets/training_data1_YES/data.csv\"\n",
    "df_original = pd.read_csv(csv_file_path)\n",
    "\n",
    "# Specify the output folder for augmented images\n",
    "output_folder = r\"C:/Users/ishit/Documents/ROSbot_data_collection/datasets/augment_YES/\"\n",
    "os.makedirs(output_folder, exist_ok=True)\n",
    "\n",
    "# Initialize an empty DataFrame for augmented data\n",
    "columns = ['image name', 'linear_speed_x', 'angular_speed_z']\n",
    "df_augmented = pd.DataFrame(columns=columns)\n",
    "\n",
    "# Iterate through images in the folder\n",
    "image_folder_path = r\"C:/Users/ishit/Documents/ROSbot_data_collection/datasets/training_data1_YES\"\n",
    "original_samples = len(df_original)\n",
    "\n",
    "for image_file in os.listdir(image_folder_path):\n",
    "    if image_file.endswith('.jpg'):\n",
    "        image_path = os.path.join(image_folder_path, image_file)\n",
    "        linear_speed_x = df_original.loc[df_original['image name'] == image_file, 'linear_speed_x'].values[0]\n",
    "        angular_speed_z = df_original.loc[df_original['image name'] == image_file, 'angular_speed_z'].values[0]\n",
    "        df_augmented = apply_augmentation(image_path, linear_speed_x, angular_speed_z, output_folder, df_augmented)\n",
    "\n",
    "# Save the augmented DataFrame to CSV\n",
    "df_augmented.to_csv(os.path.join(output_folder, 'data_augmented.csv'), index=False)"
   ]
  },
  {
   "cell_type": "code",
   "execution_count": null,
   "metadata": {},
   "outputs": [],
   "source": []
  }
 ],
 "metadata": {
  "kernelspec": {
   "display_name": "Python 3",
   "language": "python",
   "name": "python3"
  },
  "language_info": {
   "codemirror_mode": {
    "name": "ipython",
    "version": 3
   },
   "file_extension": ".py",
   "mimetype": "text/x-python",
   "name": "python",
   "nbconvert_exporter": "python",
   "pygments_lexer": "ipython3",
   "version": "3.11.6"
  }
 },
 "nbformat": 4,
 "nbformat_minor": 2
}
